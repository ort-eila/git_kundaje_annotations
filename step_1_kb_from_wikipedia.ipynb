{
  "cells": [
    {
      "cell_type": "markdown",
      "metadata": {
        "id": "view-in-github",
        "colab_type": "text"
      },
      "source": [
        "<a href=\"https://colab.research.google.com/github/ort-eila/git_kundaje_annotations/blob/main/step_1_kb_from_wikipedia.ipynb\" target=\"_parent\"><img src=\"https://colab.research.google.com/assets/colab-badge.svg\" alt=\"Open In Colab\"/></a>"
      ]
    },
    {
      "cell_type": "code",
      "execution_count": 1,
      "id": "41310c68-d624-465b-9c3e-49dffddc1df7",
      "metadata": {
        "id": "41310c68-d624-465b-9c3e-49dffddc1df7"
      },
      "outputs": [],
      "source": [
        "# kb from wikipedia"
      ]
    },
    {
      "cell_type": "code",
      "execution_count": 2,
      "id": "173a6d67-3e71-4567-872b-d3bd7c32d9fc",
      "metadata": {
        "id": "173a6d67-3e71-4567-872b-d3bd7c32d9fc"
      },
      "outputs": [],
      "source": [
        "import requests\n",
        "import bs4\n",
        "from bs4 import BeautifulSoup\n",
        "import os\n",
        "import pandas as pd\n",
        "import string  # Import the string module"
      ]
    },
    {
      "cell_type": "code",
      "execution_count": 3,
      "id": "c49b9680-ad2e-4107-af84-5b0d990cfa38",
      "metadata": {
        "id": "c49b9680-ad2e-4107-af84-5b0d990cfa38"
      },
      "outputs": [],
      "source": [
        "import requests\n",
        "import bs4\n",
        "from bs4 import BeautifulSoup\n",
        "import os\n",
        "import pandas as pd\n",
        "\n",
        "def extract_text_from_wikipedia(url, txt_filename):\n",
        "    try:\n",
        "        res = requests.get(url)\n",
        "        res.raise_for_status()\n",
        "        wiki = bs4.BeautifulSoup(res.text, \"html.parser\")\n",
        "\n",
        "        # Extract all paragraphs into a list\n",
        "        paragraphs = [paragraph.getText() for paragraph in wiki.select('p')]\n",
        "\n",
        "        # Join the paragraphs into a single text with a newline character at the end\n",
        "        text = ''.join(paragraphs)\n",
        "        print(\"text is \",text)\n",
        "        text = text.replace(\"\\n\", \"\")\n",
        "\n",
        "        # Open a file named after the Wikipedia page in write mode\n",
        "        with open(txt_filename, \"w\", encoding=\"utf-8\") as f:\n",
        "            f.write(text) # + '\\n')\n",
        "\n",
        "        print(f\"Extracted text from '{url}' and saved to '{txt_filename}'.\")\n",
        "    except Exception as e:\n",
        "        print(f\"Error extracting text: {str(e)}\")\n"
      ]
    },
    {
      "cell_type": "code",
      "execution_count": 4,
      "id": "0f0f9f7e-d229-43d3-96f2-dc287dab7d27",
      "metadata": {
        "id": "0f0f9f7e-d229-43d3-96f2-dc287dab7d27"
      },
      "outputs": [],
      "source": [
        "def update_csv_with_wikipedia_details(url_list, csv_filename, remove_wiki_page_list=None):\n",
        "    if os.path.exists(csv_filename):\n",
        "        # Read the existing CSV into a DataFrame with headers\n",
        "        existing_df = pd.read_csv(csv_filename)\n",
        "    else:\n",
        "        # Create an empty DataFrame with headers if the CSV doesn't exist\n",
        "        existing_df = pd.DataFrame(columns=['title', 'text'])\n",
        "\n",
        "    # Create a set of existing titles for fast lookup\n",
        "    existing_titles = set(existing_df['title'])\n",
        "\n",
        "    # Create an empty list to store DataFrames\n",
        "    df_list = []\n",
        "\n",
        "    for wiki_page in url_list:\n",
        "        if wiki_page in existing_titles:\n",
        "            print(f\"Skipping '{wiki_page}' as it already exists in the CSV.\")\n",
        "            continue\n",
        "\n",
        "        # Define the Wikipedia page URL\n",
        "        url = f'https://en.wikipedia.org/wiki/{wiki_page}'\n",
        "\n",
        "        # Define the filename for the text file\n",
        "        txt_filename = f\"{wiki_page}.txt\"\n",
        "\n",
        "        # Call the extract_text_from_wikipedia method to save text to a file\n",
        "        extract_text_from_wikipedia(url, txt_filename)\n",
        "\n",
        "        # Check if the text file was successfully generated\n",
        "        if os.path.exists(txt_filename):\n",
        "            # Read the content from the text file\n",
        "            with open(txt_filename, 'r', encoding='utf-8') as txt_file:\n",
        "                text = txt_file.read()\n",
        "\n",
        "            # Create a DataFrame with the title and text\n",
        "            df = pd.DataFrame({'title': [wiki_page], 'text': [text]})\n",
        "\n",
        "            # Append the DataFrame to the list\n",
        "            df_list.append(df)\n",
        "\n",
        "            # Remove the generated text file\n",
        "            #DEBUG\n",
        "            # os.remove(txt_filename)\n",
        "\n",
        "            print(f\"Downloaded '{wiki_page}' and created DataFrame.\")\n",
        "        else:\n",
        "            print(f\"Failed to download '{wiki_page}'.\")\n",
        "\n",
        "    if df_list:\n",
        "        # Concatenate all DataFrames in the list into one\n",
        "        final_df = pd.concat(df_list, ignore_index=True)\n",
        "\n",
        "        if os.path.exists(csv_filename):\n",
        "            # Append the final DataFrame to the existing CSV file without writing the header\n",
        "            final_df.to_csv(csv_filename, mode='a', header=False, index=False)\n",
        "        else:\n",
        "            # Write the final DataFrame with the header if the CSV doesn't exist\n",
        "            final_df.to_csv(csv_filename, mode='w', header=True, index=False)\n",
        "\n",
        "        print(f\"Updated CSV file '{csv_filename}' with missing Wikipedia page details.\")\n",
        "    else:\n",
        "        print(\"No new data to update in the CSV.\")\n",
        "\n",
        "    # Remove entries from the CSV based on remove_wiki_page_list\n",
        "    if remove_wiki_page_list:\n",
        "        existing_df = existing_df[~existing_df['title'].isin(remove_wiki_page_list)]\n",
        "        existing_df.to_csv(csv_filename, index=False)\n",
        "\n",
        "        print(f\"Removed specified entries from CSV.\")\n"
      ]
    },
    {
      "cell_type": "code",
      "execution_count": 5,
      "id": "d203ed00-8048-4e8b-bdfd-19736c8786ce",
      "metadata": {
        "id": "d203ed00-8048-4e8b-bdfd-19736c8786ce",
        "outputId": "ebb7046a-adb1-4894-e065-5587072e59df",
        "colab": {
          "base_uri": "https://localhost:8080/"
        }
      },
      "outputs": [
        {
          "output_type": "stream",
          "name": "stdout",
          "text": [
            "text is  \n",
            "A BRCA mutation is a mutation in either of the BRCA1 and BRCA2 genes, which are tumour suppressor genes. Hundreds of different types of mutations in these genes have been identified, some of which have been determined to be harmful, while others have no proven impact. Harmful mutations in these genes may produce a hereditary breast–ovarian cancer syndrome in affected persons. Only 5–10% of breast cancer cases in women are attributed to BRCA1 and BRCA2 mutations (with BRCA1 mutations being slightly more common than BRCA2 mutations), but the impact on women with the gene mutation is more profound.[2] Women with harmful mutations in either BRCA1 or BRCA2 have a risk of breast cancer that is about five times the normal risk, and a risk of ovarian cancer that is about ten to thirty times normal.[3] The risk of breast and ovarian cancer is higher for women with a high-risk BRCA1 mutation than with a BRCA2 mutation. Having a high-risk mutation does not guarantee that the woman will develop any type of cancer, or imply that any cancer that appears was actually caused by the mutation, rather than some other factor.\n",
            "High-risk mutations, which disable an important error-free DNA repair process (homology directed repair), significantly increase the person's risk of developing breast cancer, ovarian cancer and certain other cancers. Why BRCA1 and BRCA2 mutations lead preferentially to cancers of the breast and ovary is not known, but lack of BRCA1 function seems to lead to non-functional X-chromosome inactivation. Not all mutations are high-risk; some appear to be harmless variations.  The cancer risk associated with any given mutation varies significantly and depends on the exact type and location of the mutation and possibly other individual factors.\n",
            "Mutations can be inherited from either parent and may be passed on to both sons and daughters.  Each child of a genetic carrier, regardless of sex, has a 50% chance of inheriting the mutated gene from the parent who carries the mutation. As a result, half of the people with BRCA gene mutations are male, who would then pass the mutation on to 50% of their offspring, male or female.  The risk of BRCA-related breast cancers for men with the mutation is higher than for other men, but still low.[4] However, BRCA mutations can increase the risk of other cancers, such as colon cancer, pancreatic cancer, and prostate cancer.\n",
            "Methods to diagnose the likelihood of a patient with mutations in BRCA1 and BRCA2 getting cancer were covered by patents owned or controlled by Myriad Genetics.[5][6] Myriad's business model of exclusively offering the diagnostic test led to Myriad growing from being a startup in 1994 to being a publicly traded company with 1200 employees and about $500M in annual revenue in 2012;[7] it also led to controversy over high prices and the inability to get second opinions from other diagnostic labs, which in turn led to the landmark Association for Molecular Pathology v. Myriad Genetics lawsuit.[8]\n",
            "Biallelic and homozygous inheritance of a BRCA gene leads to a severe form of Fanconi anemia, and is embryonically lethal in the majority of the cases.\n",
            "Women with deleterious mutations in either the BRCA1 or BRCA2 genes have a high risk of developing breast and/or ovarian cancer.  Because different studies look at different populations, and because different types of mutations have somewhat different risks, the risk is best expressed as a range, rather than a single number.[9]: 89–111 \n",
            "Approximately 50% to 65% of women born with a deleterious mutation in BRCA1 will develop breast cancer by age 70, and 35% to 46% will develop ovarian cancer by age 70.  Approximately 40% to 57% of women with a deleterious mutation in BRCA2 will develop breast cancer by age 70, and 13% to 23% will develop ovarian cancer by age 70.[9]: 89–111 [10]\n",
            "Women with a breast cancer associated with a BRCA mutation have up to a 40% probability of developing a new primary breast cancer within 10 years following initial diagnosis if they did not receive tamoxifen treatment or have an oophorectomy.[4] The woman's ten-year risk for ovarian cancer is also increased by 6-12% under these conditions.[4]\n",
            "Statistics for BRCA-related ovarian cancer typically encompass not only cancer of the ovaries themselves, but also peritoneal cancer and the very rare, but somewhat easier to detect, cancer of the Fallopian tubes.  Women with a BRCA mutation have more than 100 times the normal rate of Fallopian tube cancer.[9]: 275–302   These three types of these cancers can be difficult to distinguish in their advanced stages.\n",
            "BRCA-related breast cancer appears at an earlier age than sporadic breast cancer.[9]: 89–111   It has been asserted that BRCA-related breast cancer is more aggressive than normal breast cancer, however most studies in specific populations suggest little or no difference in survival rates despite seemingly worse prognostic factors.[11][12][13]\n",
            "BRCA-related ovarian and Fallopian tube cancer is more treatable than average because it is unusually susceptible to platinum-based chemotherapy like cisplatin.[9]: 275–302  BRCA1-related ovarian cancer appears at younger ages, but the risk for women with BRCA2 climbs markedly at or shortly after menopause.[9]: 275–302 \n",
            "A 25-year-old woman with no mutation in her BRCA genes has an 84% probability to reach at least the age of 70.[14] Of those not surviving, 11% die from either breast or ovarian cancer, and 89% from other causes.\n",
            "Compared to that, a woman with a high-risk BRCA1 mutation, if she had breast cancer screening but no prophylactic medical or surgical intervention, would have only 59% chance to reach age 70, twenty-five percentage points lower than normal. Of those women not surviving, 26% would die of breast cancer, 46% ovarian cancer, and 28% other causes.[14]\n",
            "Women with high-risk BRCA2 mutations, with screening but with no prophylactic medical or surgical intervention, would have only 71% chance to reach age 70, thirteen percentage points lower than normal. Of those not surviving, 21% would die of breast cancer, 25% ovarian cancer and 54% other causes.[14]\n",
            "The likelihood of surviving to at least age 70 can be improved by several medical interventions, notably prophylactic mastectomy and oophorectomy.[14]\n",
            "Men with a BRCA mutation have a dramatically elevated relative risk of developing breast cancer, but because the overall incidence of breast cancer in men is so low, the absolute risk is equal to or lower than the risk for women without a BRCA mutation.[9]: Ch8   Approximately 1% to 2% of men with a BRCA1 mutation will develop breast cancer by age 70.  Approximately 6% of men with a BRCA2 mutation will develop breast cancer by age 70, which is approximately equal to the risk for women without a BRCA mutation.  Very few men, with or without a predisposing mutation, develop breast cancer before age 50.[9]: Ch8 \n",
            "Approximately half of men who develop breast cancer have a mutation in a BRCA gene or in one of the other genes associated with hereditary breast–ovarian cancer syndromes.\n",
            "Breast cancer in men can be treated as successfully as breast cancer in women, but men often ignore the signs and symptoms of cancer, such as a painful area or an unusual swelling, which may be no bigger than a grain of rice, until it has reached a late stage.[9]: Ch8 \n",
            "Unlike other men, men with a BRCA mutation, especially a BRCA2 mutation, may benefit from professional and self breast exams.  Medical imaging is not usually recommended, but because male BRCA2 carriers have a risk of breast cancer that is very similar to the general female population, the standard annual mammogram program can be adapted to these high-risk men.[9]: Ch8 \n",
            "Mutations have been associated with increased risk of developing any kind of invasive cancer, including stomach cancer, pancreatic cancer, prostate cancer, and colon cancer.[15] Carriers have the normal risks of developing cancer (and other diseases) associated with increased age, smoking, alcohol consumption, poor diet, lack of exercise, and other known risk factors, plus the additional risk from the genetic mutations and an increased susceptibility to damage from ionizing radiation, including natural background radiation.[9]: 39–50 \n",
            "Men with BRCA mutations cannot get ovarian cancer, but they may be twice as likely as non-carriers to develop prostate cancer at a younger age.[9]: Ch8    The risk is smaller and disputed for BRCA1 carriers; up to one-third of BRCA2 mutation carriers are expected to develop prostate cancer before age 65.  Prostate cancer in BRCA mutation carriers tends to appear a decade earlier than normal, and it tends to be more aggressive than normal.  As a result, annual prostate screening, including a digital rectal examination, is appropriate at age 40 among known carriers, rather than age 50.[9]: Ch8 \n",
            "Cancer of the pancreas tends to run in families, even among BRCA families.[9]: Ch8    A BRCA1 mutation approximately doubles or triples the lifetime risk of developing pancreatic cancer; a BRCA2 mutation triples to quintuples it.  Between 4% and 7% of people with pancreatic cancer have a BRCA mutation.[15] However, since pancreatic cancer is relatively rare, people with a BRCA2 mutation probably face an absolute risk of about 5%.  Like ovarian cancer, it tends not to produce symptoms in the early, treatable stages.  Like prostate cancer, pancreatic cancer associated with a BRCA mutation tends to appear about a decade earlier than non-hereditary cases.[15] Asymptomatic screening is invasive and may be recommended only to BRCA2 carriers who also have a family history of pancreatic cancer.[9]: Ch8 \n",
            "Melanoma is the most deadly skin cancer, although it is easily cured in the early stages.  The normal likelihood of developing melanoma depends on race, the number of moles the person has, family history, age, sex, and how much the person has been exposed to UV radiation. BRCA2 mutation carriers have approximately double or triple the risk that they would normally have, including a higher than average risk of melanoma of the eye.[9]: Ch8 [15]\n",
            "Cancer of the colon is approximately as common in both men and women in the developed world as breast cancer is among average-risk women, with about 6% of people being diagnosed with it, usually over the age of 50.[9]: Ch8    Like sporadic prostate cancer, it is a multifactorial disease, and is affected by age, diet, and similar factors.  BRCA mutation carriers have a higher than average risk of this common cancer, but the risk is not as high as in some other hereditary cancers.  The risk might be as high as four times normal in some BRCA1 families, and double the normal risk among BRCA2 carriers.  Like pancreatic cancer, it may be that only some BRCA mutations or some BRCA families have the extra risk; unlike other BRCA-caused cancers, it does not appear at an earlier age than usual.[9]: Ch8    Normal colon cancer screening is usually recommended to BRCA mutation carriers.\n",
            "Mutations in BRCA1 and BRCA2 are strongly implicated in some hematological malignancies.  BRCA1 mutations are associated acute myelogenous leukemia and chronic myelogenous leukemia.[16] Mutations of BRCA2 are also found in many T-cell lymphomas and chronic lymphocytic leukemias.[16]\n",
            "The dilemma of whether or not to have children may be a source of stress for women who learn of their BRCA mutations during their childbearing years.[17]\n",
            "There is likely little or no effect of a BRCA gene mutation on overall fertility,[18] although women with a BRCA mutation may be more likely to have primary ovarian insufficiency.[19]\n",
            "[20] BRCA mutation carriers may be more likely to give birth to girls than boys,[21] however this observation has been attributed to ascertainment bias.[22][23]\n",
            "If both parents are carriers of a BRCA mutation, then pre-implantation genetic diagnosis is sometimes used to prevent the birth of a child with BRCA mutations.[9]: 82–85   Inheriting two BRCA1 mutations (one from each parent) has never been reported and is believed to be a lethal birth defect.  Inheriting one BRCA1 mutation and one BRCA2 mutation has been reported occasionally; the child's risk for any given type of cancer is the higher risk of the two genes (e.g., the ovarian cancer risk from BRCA1 and the pancreatic cancer risk from BRCA2).  Inheriting two BRCA2 mutations produces Fanconi anemia.[9]: 82–85 \n",
            "Each pregnancy in genetically typical women is associated with a significant reduction in the mother's risk of developing breast cancer after age 40.[17] The younger the woman is at the time of her first birth, the more protection against breast cancer she receives.[9]: 113–142   Breastfeeding for more than one year protects against breast cancer.[9]: 113–142   Pregnancy also protects against ovarian cancer in genetically typical women.[17]\n",
            "Although some studies have produced different results, women with BRCA mutations are generally not expected to receive these significant protective benefits.[9]: 113–142 [17] Current research is too limited and imprecise to permit calculation of specific risks.[17] However, the following general trends have been identified:\n",
            "Reports of patients biallelic or homozygous for a deleterious BRCA allele conferring a greatly increased risk of breast cancer are rare. This is because deleterious BRCA alleles are lethal alleles; this condition is embryonically lethal in the majority of the cases. [25] For live cases, inheriting both mutations lead to a grave prognosis, characterized by Wilms tumors, leukemias, and early-onset brain malignancies.[26]\n",
            "Both BRCA genes are tumor suppressor genes that produce proteins that are used by the cell in an enzymatic pathway that makes very precise, perfectly matched repairs to DNA molecules that have double-stranded breaks.[9]: 39–50 [27] The pathway requires proteins produced by several other genes, including CHK2, FANCD2 and ATM.[15] Harmful mutations in any of these genes disable the gene or the protein that it produces.\n",
            "The cancer risk caused by BRCA1 and BRCA2 mutations are inherited in a dominant fashion even though usually only one mutated allele is directly inherited.[28] This is because people with the mutation are likely to acquire a second mutation, leading to dominant expression of the cancer. A mutated BRCA gene can be inherited from either parent.  Because they are inherited from the parents, they are classified as  hereditary or germline mutations rather than acquired or somatic mutations.  Cancer caused by a mutated gene inherited from an individual's parents is a hereditary cancer rather than a sporadic cancer.\n",
            "Because humans have a diploid genome, each cell has two copies of the gene (one from each biological parent).  Typically only one copy contains a disabling, inherited mutation, so the affected person is heterozygous for the mutation.  If the functional copy is harmed, however, then the cell is forced to use alternate DNA repair mechanisms, which are more error-prone.  The loss of the functional copy is called loss of heterozygosity (LOH).[29] Any resulting errors in DNA repair may result in cell death or a cancerous transformation of the cell.[9]: 39–50 \n",
            "There are many variations in BRCA genes, and not all changes confer the same risks.\n",
            "[9]: 39–50 \n",
            "Some variants are harmless; others are known to be very harmful.  Some single nucleotide polymorphisms may confer only a small risk, or may only confer risk in the presence of other mutations or under certain circumstances.  In other cases, whether the variant is harmful is unknown.  Variants are classified as follows:[9]: 39–50 : 109 \n",
            "Deleterious mutations have high, but not complete, genetic penetrance, which means that people with the mutation have a high risk of developing disease as a result, but that some people will not develop cancer despite carrying a harmful mutation.\n",
            "Genetic counseling is recommended in women whose personal or family health history suggests a greater than average likelihood of a mutation.[30] The purpose of genetic counseling is to educate the person about the likelihood of a positive result, the risks and benefits of being tested, the limitations of the tests, the practical meaning of the results, and the risk-reducing actions that could be taken if the results are positive.  They are also trained to support people through any emotional reactions and to be a neutral person who helps the client make his or her own decision in an informed consent model, without pushing the client to do what the counselor might do.  Because the knowledge of a mutation can produce substantial anxiety, some people choose not to be tested or to postpone testing until a later date.[9]: 51–74 \n",
            "Relative indications for testing for a mutation in BRCA1 or BRCA2 for newly diagnosed or family members include a family history among 1st (FDR), 2nd (SDR), or 3rd(TDR) degree relatives usually on the same side of the family but not limited:[31]\n",
            "Testing young children is considered medically unethical because the test results would not change the way the child's health is cared for.[9]: 82–85 \n",
            "Two types of tests are available.[9]: 51–74   Both commonly use a blood sample, although testing can be done on saliva. The quickest, simplest, and lowest cost test uses positive test results from a blood relative and checks only for the single mutation that is known to be present in the family.  If no relative has previously disclosed positive test results, then a full test that checks the entire sequence of both BRCA1 and BRCA2 can be performed.  In some cases, because of the founder effect, Jewish ethnicity can be used to narrow the testing to quickly check for the three most common mutations seen among Ashkenazi Jews.[9]: 51–74 \n",
            "Testing is commonly covered by health insurance and public healthcare programs for people at high risk for having a mutation, and not covered for people at low risk.[9]: 51–74  The purpose of limiting the testing to high-risk people is to increase the likelihood that the person will receive a meaningful, actionable result from the test, rather than identifying a variant of unknown significance (VUS). In Canada, people who demonstrate their high-risk status by meeting specified guidelines are referred initially to a specialized program for hereditary cancers, and, if they choose to be tested, the cost of the test is fully covered.  In the US in 2010, single-site testing had a retail cost of US$400 to $500, and full-length analysis cost about $3,000 per gene, and the costs were commonly covered by private health insurance for people deemed to be at high risk.\n",
            "The test is ordered by a physician, usually an oncologist, and the results are always returned to the physician, rather than directly to the patient.  How quickly results are returned depends on the test—single-site analysis requires less lab time—and on the infrastructure in place.  In the US, test results are commonly returned within one to several weeks; in Canada, patients commonly wait for eight to ten months for test results.[9]: 51–74 \n",
            "A positive test result for a known deleterious mutation is proof of a predisposition, although it does not guarantee that the person will develop any type of cancer.  A negative test result, if a specific mutation is known to be present in the family, shows that the person does not have a BRCA-related predisposition for cancer, although it does not guarantee that the person will not develop a non-hereditary case of cancer.  By itself, a negative test result does not mean that the patient has no hereditary predisposition for breast or ovarian cancer.  The family may have some other genetic predisposition for cancer, involving some other gene.[9]: 89–111 \n",
            "A variety of screening options and interventions are available to manage BRCA-related cancer risks.  Screenings are adjusted to individual and familial risk factors.[citation needed]\n",
            "As these screening methods do not prevent cancer, but merely attempt to catch it early, numerous methods of prevention are sometimes practiced, with varying results.[9]: 175–207 \n",
            "An intensive cancer screening regimen is usually advised for women with deleterious or suspected deleterious BRCA mutations in order to detect new cancers as early as possible.  A typical recommendation includes frequent breast cancer screening as well as tests to detect ovarian cancer.[9]: 175–207 \n",
            "Breast imaging studies usually include a breast MRI (magnetic resonance imaging) once a year, beginning between ages 20 and 30, depending on the age at which any relatives were diagnosed with breast cancer. Mammograms are typically used only at advanced age as there is reason to believe that BRCA carriers are more susceptible to breast cancer induction by X-ray damage than general population.[34]\n",
            "Alternatives include breast ultrasonography, CT scans, PET scans, scintimammography, elastography, thermography, ductal lavage, and experimental screening protocols, some of which hope to identify biomarkers for breast cancer (molecules that appear in the blood when breast cancer begins).[9]: 175–207 \n",
            "Ovarian cancer screening usually involves ultrasonography of the pelvic region, typically twice a year.[9]: 175–207   Women may also use a blood test for CA-125 and clinical pelvic exams.  The blood test has relatively poor sensitivity and specificity for ovarian cancer.[9]: 175–207 [35]\n",
            "In both breast and ovarian screening, areas of tissue that look suspicious are investigated with either more imaging, possibly using a different type of imaging or after a delay, or with biopsies of the suspicious areas.\n",
            "Birth control pills are associated with substantially lower risk of ovarian cancer in women with BRCA mutations.[36][37] A 2013 meta-analysis found that oral contraceptive use was associated with a 42% reduction of the relative risk of ovarian cancer, the association was similar for BRCA1 and BRCA2 mutations. Use of oral contraceptives was not significantly associated with breast cancer risk although a small increase of risk that did not reach statistical significance was observed.[36][37] A 2011 meta-analysis found that OC use was associated with a 43% relative reduction in risk of ovarian cancer in women with BRCA mutations, while data on the risk of breast cancer in BRCA mutation carriers with oral contraceptive use were heterogeneous and results were inconsistent.[38]\n",
            "Selective estrogen receptor modulators, specifically tamoxifen, have been found to reduce breast cancer risk in women with BRCA mutations who do not have their breast removed.[9]: 113–142    It is effective as for primary prevention (preventing the first case of breast cancer) in women with BRCA2 mutations, but not BRCA1 mutations, and for secondary prevention (preventing a second, independent breast cancer) in both groups of women.  Taking tamoxifen for five years has been found to halve the breast cancer risk in women who have a high risk of breast cancer for any reason, but potentially serious adverse effects like cataracts, blood clots, and endometrial cancer, along with quality of life issues like hot flashes, result in some women discontinuing its use and some physicians limiting its use to women with atypical growths in the breasts.  Tamoxifen is contraindicated for women who are most likely to be harmed by the common complications.  Raloxifene (Evista), which has a reduced risk of side effects, is used as an alternative, but it has not been studied in BRCA mutation carriers specifically.  Tamoxifen use can be combined with oophorectomy for even greater reduction of breast cancer risk, particularly in women with BRCA2 mutations.[9]: 113–142 \n",
            "Aromatase inhibitors are medications that prevent estrogen production in the adrenal glands and adipose tissue.  They have fewer side effects than selective estrogen receptor modulators like tamoxifen, but do not work in premenopausal women, because they do not prevent the ovaries from producing estrogen.[9]: 113–142 \n",
            "Several type of preventive surgeries are known to substantially reduce cancer risk for women with high-risk BRCA mutations.[39] The surgeries may be used alone, in combination with each other, or in combination with non-surgical interventions to reduce the risk of breast and ovarian cancer. Surgeries such as mastectomy and oophorectomy do not eliminate the chance of breast cancer; cases have reportedly emerged despite these procedures.[40]\n",
            "Whether and when to perform which preventive surgeries is a complex personal decision. Current medical knowledge offers some guidance about the risks and benefits. Even carriers of the same mutation or from the same family may have substantially different risks for the kind and severity of cancer they are likely to get, as well as the age at which they may get them. Different people also have different values. They may choose to focus on total cancer prevention, psychological benefits, current quality of life, or overall survival. The possible impact of future medical developments in treatment or prognosis may also be of some importance for very young women and family planning.  The decision is individualized and is usually based on many factors, such as earliest occurrence of BRCA-related cancer in close relatives. \n",
            "An increasing number women who test positive for faulty BRCA1 or BRCA2 genes choose to have risk-reducing surgery. At the same time the average waiting time for undergoing the procedure is two-years which is much longer than recommended.[42][43]\n",
            "The protective effect of prophylactic surgery is greater when done at young age; however, oophorectomy also has adverse effects that are greatest when done long before natural menopause.  For this reason, oophorectomy is mostly recommended after age 35 or 40, assuming childbearing is complete.  The risk of ovarian cancer is low before this age, and the negative effects of oophorectomy are less serious as the woman nears natural menopause.[14][44]\n",
            "For comparison, women in the general population have an 84% chance of living to age 70.\n",
            "Research has looked into the effects of risk-reducing surgery on the psychological and social wellbeing of women with a BRCA mutation.[45] Due to limited evidence, a 2019 meta analysis was unable to draw conclusions on whether interventions can help with the psychological effects of surgery in female BRCA carriers. More research is needed to conclude how best to support women who choose surgery.[45]\n",
            "In a woman who has not developed breast cancer, removing the breasts may reduce her risk of ever being diagnosed with breast cancer by 90%, to a level that is approximately half the average woman's risk.[9]: 209–244 \n",
            "Bilateral mastectomy is the removal of both breasts by a breast surgeon.[9]: 209–244  The modified radical mastectomy is only used in women diagnosed with invasive breast cancer.  Techniques for prophylactic mastectomies include:[9]: 209–244 \n",
            "Which technique is used is determined by the existence of any cancer and overall health, as well as by the woman's desire, if any, for breast reconstruction surgery for aesthetic purposes.[9]: 209–244   Women who choose a flat-chested appearance or use external breast prostheses typically choose simple mastectomy, with its greater risk reduction.[9]: 209–244 \n",
            "Breast reconstruction is usually done by a plastic surgeon, and may be started as part of the same multi-hour surgery that removes the breasts.  Multiple techniques for reconstruction have been used, with different locations and amounts of scarring.  Some techniques use tissue from another part of the body, such as fat tissue from the lower abdomen or occasionally muscles from other parts of the torso.  Others use breast implants, possibly preceded by tissue expanders, to provide volume.  Some reconstruction techniques require multiple surgeries.  Afterwards, some women have tattoos added to simulate breast areolas or have the skin reshaped to form a nipple.[9]: 209–244 \n",
            "Oophorectomy (surgical removal of the ovaries) and salpingectomy (surgical removal of the Fallopian tubes) are strongly recommended to women with BRCA mutations.[9]: 275–302  Salpingo-oophorectomy is the single most effective method of preventing ovarian and Fallopian tube cancer in women with a BRCA mutation.  However, a small risk of primary peritoneal cancer remains, at least among women with BRCA1 mutations, since the peritoneal lining is the same type of cells as parts of the ovary.  This risk is estimated to produce about five cases of peritoneal cancer per 100 women with harmful BRCA1 mutations in the 20 years after the surgery.[9]: 275–302 \n",
            "BRCA2 related ovarian cancer tends to present in perimenopausal or menopausal women, so salpingo-oophorectomy is recommended between ages 45 and 50.[9]: 275–302 \n",
            "The surgery is often done in conjunction with a hysterectomy (surgical removal of the uterus) and sometimes a cervicectomy (surgical removal of the cervix), especially in women who want to take tamoxifen, which is known to cause uterine cancer, or who have uterine fibroids.[9]: 275–302   Multiple styles of surgery are available, including laparoscopic (keyhole) surgery.  Because about 5% of women with a BRCA mutation have undetected ovarian cancer at the time of their planned surgery, the surgery should be treated as if it were a removal of a known cancer.[9]: 275–302 \n",
            "Salpingo-oophorectomy makes the woman sterile (unable to bear children).  Infertility services can be used to preserve her eggs, if wanted.  However, as the benefits to the surgery are greatest close to menopause, most women simply postpone the surgery until they have already borne as many children as they choose to.[9]: 275–302 \n",
            "The surgery also artificially induces menopause, which causes hot flashes, sleep disturbances, mood swings, vaginal dryness, sexual difficulties, difficulty with word recall, and other medical signs and symptoms. The side effects range from mild to severe; most can be treated at least partially.  Many women with a BRCA take hormone replacement therapy to reduce these effects:  estrogen-progesterone combinations for women who have a uterus, and unopposed estrogen for women whose uterus was removed.  Estrogen can cause breast cancer, but as the amount of estrogen taken is less than the amount produced by the now-removed ovaries, the net risk is usually judged to be acceptable.[9]: 303–317 \n",
            "Some sources assume that oophorectomy before age 50 doubles the risk of cardiovascular disease and increases risk of hip fractures caused by osteoporosis in the relevant population.[14]\n",
            "Given the high risks and the low benefit of lifestyle choices in BRCA mutation carriers, no lifestyle choices provide sufficient protection.[9]: 113–142 \n",
            "Having her first child at a younger age, having more children than average, and breastfeeding for more than one year decreases the risk of breast cancer for an average-risk woman.[9]: 113–142   Studies about this effect among BRCA mutation carriers have produced conflicting results, but generally speaking, having children is believed to provide little or no protection against breast cancer for women with BRCA1 mutations, and to paradoxically increase the risk of breast cancer for women with BRCA2 mutations.[9]: 113–142 [17]\n",
            "Being physically active and maintaining a healthy body weight prevents breast and other cancers in the general population, as well as preventing heart disease and other medical conditions.  Among women with a BRCA mutation, being physically active and having had a healthy body weight as an adolescent has no effect on ovarian cancer and delays, but does not entirely prevent, breast cancer after menopause.[9]: 113–142 [46] In some studies, only significant, strenuous exercise produced any benefit.[9]: 113–142  Obesity and weight gain as an adult are associated with breast cancer diagnoses.[9]: 113–142 \n",
            "Studies on specific foods, diets, or dietary supplements have generally produced conflicting information or, in the case of dietary fat, soy consumption, and drinking green tea, have only been conducted in average-risk women.[9]: 113–142   The only dietary intervention that is generally accepted as preventing breast cancer in BRCA mutation carriers is minimizing consumption of alcoholic beverages.  Consuming more than one alcoholic drink per day is strongly associated with a higher risk of developing breast cancer, and carriers are usually encouraged to consume no more than one alcoholic drink per day, and no more than four total in a week.[9]: 113–142 \n",
            "In a study conducted with Ashkenazi Jewish women, it was observed that mutation carriers born before 1940 have a much lower risk of being diagnosed with breast cancer by age 50 than those born after 1940; this was also observed in the non-carrier population.[46] The reasons for the difference is unknown.  Unlike the general population, age at menarche and age at menopause has no effect on breast cancer risk for BRCA mutation carriers.[9]: 113–142 \n",
            "Several hypotheses propose that BRCA mutations might have evolutionary advantages, such as higher intelligence. The Ashkenazi intelligence hypothesis was proposed by Gregory Cochran and asserts that a defect in the BRCA1 gene might unleash neural growth.[47]\n",
            "Studies have shown that BRCA1 mutations are not random, but under adaptive selection, indicating that although BRCA1 mutations are linked to breast cancer, the mutations likely have a beneficial effect as well.[48]\n",
            "A patent application for the isolated BRCA1 gene and cancer-cancer promoting mutations discussed above, as well as methods to diagnose the likelihood of getting breast cancer, was filed by the University of Utah, National Institute of Environmental Health Sciences (NIEHS) and Myriad Genetics in 1994;[5] over the next year, Myriad, in collaboration with investigators from Endo Recherche, Inc., HSC Research & Development Limited Partnership, and University of Pennsylvania, isolated and sequenced the BRCA2 gene and identified key mutations, and the first BRCA2 patent was filed in the US by Myriad and other institutions in 1995.[6] Myriad is the exclusive licensee of these patents and has enforced them in the US against clinical diagnostic labs.[8] This business model led to Myriad growing being a startup in 1994 to being a publicly traded company with 1200 employees and about $500M in annual revenue in 2012;[7] it also led to controversy over high prices and the inability to get second opinions from other diagnostic labs, which in turn led to the landmark Association for Molecular Pathology v. Myriad Genetics lawsuit.[8][49] The patents began to expire in 2014.\n",
            "According to an article published in the journal, Genetic Medicine, in 2010, \"The patent story outside the United States is more complicated.... For example, patents have been obtained but the patents are being ignored by provincial health systems in Canada. In Australia and the UK, Myriad's licensee permitted use by health systems, but announced a change of plans in August 2008. ... Only a single mutation has been patented in Myriad's lone European-wide patent, although some patents remain under review of an opposition proceeding. In effect, the United States is the only jurisdiction where Myriad's strong patent position has conferred sole-provider status.\"[50][51] Peter Meldrum, CEO of Myriad Genetics, has acknowledged that Myriad has \"other competitive advantages that may make such [patent] enforcement unnecessary\" in Europe.[52]\n",
            "Legal decisions surrounding the BRCA1 and BRCA2 patents will affect the field of genetic testing in general.[53] In June 2013, in  Association for Molecular Pathology v. Myriad Genetics (No. 12-398), the US Supreme Court unanimously ruled that, \"A naturally occurring DNA segment is a product of nature and not patent eligible merely because it has been isolated,\" invalidating Myriad's patents on the BRCA1 and BRCA2 genes. However, the Court also held that manipulation of a gene to create something not found in nature could still be eligible for patent protection.[54]\n",
            "\n",
            "Extracted text from 'https://en.wikipedia.org/wiki/BRCA_mutation' and saved to 'BRCA_mutation.txt'.\n",
            "Downloaded 'BRCA_mutation' and created DataFrame.\n",
            "text is  1JM7, 1JNX, 1N5O, 1OQA, 1T15, 1T29, 1T2U, 1T2V, 1Y98, 2ING, 3COJ, 3K0H, 3K0K, 3K15, 3PXA, 3PXB, 3PXC, 3PXD, 3PXE, 4IFI, 4IGK, 4JLU, 4OFB, 4U4A, 4Y18, 4Y2G67212189ENSG00000012048ENSMUSG00000017146P38398P48754NM_007299NM_007300NM_007301NM_007302NM_007303NM_007305NM_007306NM_009764NP_009225NP_009228NP_009229NP_009230NP_009231NP_033894Breast cancer type 1 susceptibility protein is a protein that in humans is encoded by the BRCA1  (/ˌbrækəˈwʌn/) gene.[5] Orthologs are common in other vertebrate species, whereas invertebrate genomes may encode a more distantly related gene.[6] BRCA1 is a human tumor suppressor gene[7][8] (also known as a caretaker gene) and is responsible for repairing DNA.[9]\n",
            "BRCA1 and BRCA2 are unrelated proteins,[10] but both are normally expressed in the cells of breast and other tissue, where they help repair damaged DNA, or destroy cells if DNA cannot be repaired. They are involved in the repair of chromosomal damage with an important role in the error-free repair of DNA double-strand breaks.[11][12] If BRCA1 or BRCA2 itself is damaged by a BRCA mutation, damaged DNA is not repaired properly, and this increases the risk for breast cancer.[13][14] BRCA1 and BRCA2 have been described as \"breast cancer susceptibility genes\" and \"breast cancer susceptibility proteins\".  The predominant allele has a normal, tumor suppressive function whereas high penetrance mutations in these genes cause a loss of tumor suppressive function which correlates with an increased risk of breast cancer.[15]\n",
            "BRCA1 combines with other tumor suppressors, DNA damage sensors and signal transducers to form a large multi-subunit protein complex known as the BRCA1-associated genome surveillance complex (BASC).[16] The BRCA1 protein associates with RNA polymerase II, and through the C-terminal domain, also interacts with histone deacetylase complexes. Thus, this protein plays a role in transcription, and DNA repair of double-strand DNA breaks[14] ubiquitination, transcriptional regulation as well as other functions.[17]\n",
            "Methods to test for the likelihood of a patient with mutations in BRCA1 and BRCA2 developing cancer were covered by patents owned or controlled by Myriad Genetics.[18][19]  Myriad's business model of offering the diagnostic test exclusively led from Myriad being a startup in 1994 to being a publicly traded company with 1200 employees and about $500M in annual revenue in 2012;[20] it also led to controversy over high prices and the inability to obtain second opinions from other diagnostic labs, which in turn led to the landmark Association for Molecular Pathology v. Myriad Genetics lawsuit.[21]\n",
            "The first evidence for the existence of a gene encoding a DNA repair enzyme involved in breast cancer susceptibility was provided by Mary-Claire King's laboratory at UC Berkeley in 1990.[22]  Four years later, after an international race to find it,[23] the gene was cloned in 1994 by scientists at University of Utah, National Institute of Environmental Health Sciences (NIEHS) and Myriad Genetics.[18][24]\n",
            "The human BRCA1 gene is located on the long (q) arm of chromosome 17 at region 2 band 1, from base pair 41,196,312 to base pair 41,277,500 (Build GRCh37/hg19) (map).[25] BRCA1 orthologs have been identified in most vertebrates for which complete genome data are available.[6]\n",
            "The BRCA1 protein contains the following domains:[26]\n",
            "This protein also contains nuclear localization signals and nuclear export signal motifs.[27]\n",
            "The human BRCA1 protein consists of four major protein domains; the Znf C3HC4- RING domain, the BRCA1 serine domain and two BRCT domains. These domains encode approximately 27% of BRCA1 protein. There are six known isoforms of BRCA1,[28] with isoforms 1 and 2 comprising 1863 amino acids each.[citation needed]\n",
            "BRCA1 is unrelated to BRCA2, i.e. they are not homologs or paralogs.[10]\n",
            "The RING motif, a Zn finger found in eukaryotic peptides, is 40–60 amino acids long and consists of eight conserved metal-binding residues, two quartets of cysteine or histidine residues that coordinate two zinc atoms.[30]  This motif contains a short anti-parallel beta-sheet, two zinc-binding loops and a central alpha helix in a small domain.  This RING domain interacts with associated proteins, including BARD1, which also contains a RING motif, to form a heterodimer. The BRCA1 RING motif is flanked by alpha helices formed by residues 8–22 and 81–96 of the BRCA1 protein. It interacts with a homologous region in BARD1 also consisting of a RING finger flanked by two alpha-helices formed from residues 36–48 and 101–116. These four helices combine to form a heterodimerization interface and stabilize the BRCA1-BARD1 heterodimer complex. Additional stabilization is achieved by interactions between adjacent residues in the flanking region and hydrophobic interactions. The BARD1/BRCA1 interaction is disrupted by tumorigenic amino acid substitutions in BRCA1, implying that the formation of a stable complex between these proteins may be an essential aspect of BRCA1 tumor suppression.[30]\n",
            "The ring domain is an important element of ubiquitin E3 ligases, which catalyze protein ubiquitination. Ubiquitin is a small regulatory protein found in all tissues that direct proteins to compartments within the cell. BRCA1 polypeptides, in particular, Lys-48-linked polyubiquitin chains are dispersed throughout the resting cell nucleus, but at the start of DNA replication, they gather in restrained groups that also contain BRCA2 and BARD1. BARD1 is thought to be involved in the recognition and binding of protein targets for ubiquitination.[31] It attaches to proteins and labels them for destruction. Ubiquitination occurs via the BRCA1 fusion protein and is abolished by zinc chelation.[30] The enzyme activity of the fusion protein is dependent on the proper folding of the ring domain.[citation needed]\n",
            "BRCA1 serine cluster domain (SCD) spans amino acids 1280–1524. A portion of the domain is located in exons 11–13. High rates of mutation occur in exons 11–13. Reported phosphorylation sites of BRCA1 are concentrated in the SCD, where they are phosphorylated by ATM/ATR kinases both in vitro and in vivo. ATM/ATR are kinases activated by DNA damage. Mutation of serine residues may affect localization of BRCA1 to sites of DNA damage and DNA damage response function.[29]\n",
            "The dual repeat BRCT domain of the BRCA1 protein is an elongated structure approximately 70 Å long and 30–35 Å wide.[32] The 85–95 amino acid domains in BRCT can be found as single modules or as multiple tandem repeats containing two domains.[33] Both of these possibilities can occur in a single protein in a variety of different conformations.[32] The C-terminal BRCT region of the BRCA1 protein is essential for repair of DNA, transcription regulation and tumor suppressor function.[34] In BRCA1 the dual tandem repeat BRCT domains are arranged in a head-to-tail-fashion in the three-dimensional structure, burying 1600 Å of hydrophobic, solvent-accessible surface area in the interface. These all contribute to the tightly packed knob-in-hole structure that comprises the interface. These homologous domains interact to control cellular responses to DNA damage. A missense mutation at the interface of these two proteins can perturb the cell cycle, resulting a greater risk of developing cancer.[citation needed]\n",
            "BRCA1 is part of a complex that repairs double-strand breaks in DNA. The strands of the DNA double helix are continuously breaking as they become damaged. Sometimes only one strand is broken, sometimes both strands are broken simultaneously. DNA cross-linking agents are an important source of chromosome/DNA damage. Double-strand breaks occur as intermediates after the crosslinks are removed, and indeed, biallelic mutations in BRCA1 have been identified to be responsible for Fanconi Anemia, Complementation Group S (FA-S),[35] a genetic disease associated with hypersensitivity to DNA crosslinking agents. BRCA1 is part of a protein complex that repairs DNA when both strands are broken. When this happens, it is difficult for the repair mechanism to \"know\" how to replace the correct DNA sequence, and there are multiple ways to attempt the repair. The double-strand repair mechanism in which BRCA1 participates is homology-directed repair, where the repair proteins copy the identical sequence from the intact sister chromatid.[36] FA-S is almost always a lethal condition in utero; only a handful cases of biallelic BRCA1 mutations have been reported in literature despite the high carrier frequencies in the Ashkenazim, and none since 2013.[37]\n",
            "In the nucleus of many types of normal cells, the BRCA1 protein interacts with RAD51 during repair of DNA double-strand breaks.[38] These breaks can be caused by natural radiation or other exposures, but also occur when chromosomes exchange genetic material (homologous recombination, e.g., \"crossing over\" during meiosis). The BRCA2 protein, which has a function similar to that of BRCA1, also interacts with the RAD51 protein. By influencing DNA damage repair, these three proteins play a role in maintaining the stability of the human genome.[citation needed]\n",
            "BRCA1 is also involved in another type of DNA repair, termed mismatch repair.  BRCA1 interacts with the DNA mismatch repair protein MSH2.[39]  MSH2, MSH6, PARP and some other proteins involved in single-strand repair are reported to be elevated in BRCA1-deficient mammary tumors.[40]\n",
            "A protein called valosin-containing protein (VCP, also known as p97) plays a role to recruit BRCA1 to the damaged DNA sites.  After ionizing radiation, VCP is recruited to DNA lesions and cooperates with the ubiquitin ligase RNF8 to orchestrate assembly of signaling complexes for efficient DSB repair.[41]  BRCA1 interacts with VCP.[42] BRCA1 also interacts with c-Myc, and other proteins that are critical to maintain genome stability.[43]\n",
            "BRCA1 directly binds to DNA, with higher affinity for branched DNA structures. This ability to bind to DNA contributes to its ability to inhibit the nuclease activity of the MRN complex as well as the nuclease activity of Mre11 alone.[44] This may explain a role for BRCA1 to promote lower fidelity DNA repair by non-homologous end joining (NHEJ).[45] BRCA1 also colocalizes with γ-H2AX (histone H2AX phosphorylated on serine-139) in DNA double-strand break repair foci, indicating it may play a role in recruiting repair factors.[17][46]\n",
            "Formaldehyde and acetaldehyde are common environmental sources of DNA cross links that often require repairs mediated by BRCA1 containing pathways.[47]\n",
            "This DNA repair function is essential; mice with loss-of-function mutations in both BRCA1 alleles are not viable, and as of 2015 only two adults were known to have loss-of-function mutations in both alleles (leading to FA-S); both had congenital or developmental issues, and both had cancer. One was presumed to have survived to adulthood because one of the BRCA1 mutations was hypomorphic.[48]\n",
            "BRCA1 was shown to co-purify with the human RNA Polymerase II holoenzyme in HeLa extracts, implying it is a component of the holoenzyme.[49] Later research, however, contradicted this assumption, instead showing that the predominant complex including BRCA1 in HeLa cells is a 2 megadalton complex containing SWI/SNF.[50] SWI/SNF is a chromatin remodeling complex. Artificial tethering of BRCA1 to chromatin was shown to decondense heterochromatin, though the SWI/SNF interacting domain was not necessary for this role.[46] BRCA1 interacts with the NELF-B (COBRA1) subunit of the NELF complex.[46]\n",
            "Certain variations of the BRCA1 gene lead to an increased risk for breast cancer as part of a hereditary breast–ovarian cancer syndrome. Researchers have identified hundreds of mutations in the BRCA1 gene, many of which are associated with an increased risk of cancer. Females with an abnormal BRCA1 or BRCA2 gene have up to an 80% risk of developing breast cancer by age 90; increased risk of developing ovarian cancer is about 55% for females with BRCA1 mutations and about 25% for females with BRCA2 mutations.[52]\n",
            "These mutations can be changes in one or a small number of DNA base pairs (the building-blocks of DNA), and can be identified with PCR and DNA sequencing.[53]\n",
            "In some cases, large segments of DNA are rearranged. Those large segments, also called large rearrangements, can be a deletion or a duplication of one or several exons in the gene. Classical methods for mutation detection (sequencing) are unable to reveal these types of mutation.[54] Other methods have been proposed: traditional quantitative PCR,[55] multiplex ligation-dependent probe amplification (MLPA),[56] and Quantitative Multiplex PCR of Short Fluorescent Fragments (QMPSF).[57] Newer methods have also been recently proposed: heteroduplex analysis (HDA) by multi-capillary electrophoresis or also dedicated oligonucleotides array based on comparative genomic hybridization (array-CGH).[58]\n",
            "Some results suggest that hypermethylation of the BRCA1 promoter, which has been reported in some cancers, could be considered as an inactivating mechanism for BRCA1 expression.[59]\n",
            "A mutated BRCA1 gene usually makes a protein that does not function properly. Researchers believe that the defective BRCA1 protein is unable to help fix DNA damage leading to mutations in other genes. These mutations can accumulate and may allow cells to grow and divide uncontrollably to form a tumor. Thus, BRCA1 inactivating mutations lead to a predisposition for cancer.[citation needed]\n",
            "BRCA1 mRNA 3' UTR can be bound by an miRNA, Mir-17 microRNA. It has been suggested that variations in this miRNA along with Mir-30 microRNA could confer susceptibility to breast cancer.[60]\n",
            "In addition to breast cancer, mutations in the BRCA1 gene also increase the risk of ovarian and prostate cancers. Moreover, precancerous lesions (dysplasia) within the Fallopian tube have been linked to BRCA1 gene mutations. Pathogenic mutations anywhere in a model pathway containing BRCA1 and BRCA2 greatly increase risks for a subset of leukemias and lymphomas.[14]\n",
            "Women who have inherited a defective BRCA1 or BRCA2 gene are at a greatly elevated risk to develop breast and ovarian cancer. Their risk of developing breast and/or ovarian cancer is so high, and so specific to those cancers, that many mutation carriers choose to have prophylactic surgery. There has been much conjecture to explain such apparently striking tissue specificity. Major determinants of where BRCA1/2 hereditary cancers occur are related to tissue specificity of the cancer pathogen, the agent that causes chronic inflammation or the carcinogen. The target tissue may have receptors for the pathogen, may become selectively exposed to an inflammatory process or to a carcinogen. An innate genomic deficit in a tumor suppressor gene impairs normal responses and exacerbates the susceptibility to disease in organ targets. This theory also fits data for several tumor suppressors beyond BRCA1 or BRCA2. A major advantage of this model is that it suggests there may be some options in addition to prophylactic surgery.[61]\n",
            "As aforementioned, biallelic and homozygous inheritance of the BRCA1 gene leads to FA-S, which is almost always an embryonically lethal condition.\n",
            "BRCA1 expression is reduced or undetectable in the majority of high grade, ductal breast cancers.[62]  It has long been noted that loss of BRCA1 activity, either by germ-line mutations or by down-regulation of gene expression, leads to tumor formation in specific target tissues.  In particular, decreased BRCA1 expression contributes to both sporadic and inherited breast tumor progression.[63]  Reduced expression of BRCA1 is tumorigenic because it plays an important role in the repair of DNA damages, especially double-strand breaks, by the potentially error-free pathway of homologous recombination.[64]  Since cells that lack the BRCA1 protein tend to repair DNA damages by alternative more error-prone mechanisms, the reduction or silencing of this protein generates mutations and gross chromosomal rearrangements that can lead to progression to breast cancer.[64]\n",
            "Similarly, BRCA1 expression is low in the majority (55%) of sporadic epithelial ovarian cancers (EOCs) where EOCs are the most common type of ovarian cancer, representing approximately 90% of ovarian cancers.[65]  In serous ovarian carcinomas, a sub-category constituting about 2/3 of EOCs, low BRCA1 expression occurs in more than 50% of cases.[66]  Bowtell[67] reviewed the literature indicating that deficient homologous recombination repair caused by BRCA1 deficiency is tumorigenic.  In particular this deficiency initiates a cascade of molecular events that sculpt the evolution of high-grade serous ovarian cancer and dictate its response to therapy.  Especially noted was that BRCA1 deficiency could be the cause of tumorigenesis whether due to BRCA1 mutation or any other event that causes a deficiency of BRCA1 expression.\n",
            "Only about 3%–8% of all women with breast cancer carry a mutation in BRCA1 or BRCA2.[68]  Similarly, BRCA1 mutations are only seen in about 18% of ovarian cancers (13% germline mutations and 5% somatic mutations).[69]\n",
            "Thus, while BRCA1 expression is low in the majority of these cancers, BRCA1 mutation is not a major cause of reduced expression. Certain latent viruses, which are frequently detected in breast cancer tumors, can decrease the expression of the BRCA1 gene and cause the development of breast tumors.[70]\n",
            "BRCA1 promoter hypermethylation was present in only 13% of unselected primary breast carcinomas.[71]  Similarly, BRCA1 promoter hypermethylation was present in only 5% to 15% of EOC cases.[65]\n",
            "Thus, while BRCA1 expression is low in these cancers, BRCA1 promoter methylation is only a minor cause of reduced expression.\n",
            "There are a number of specific microRNAs, when overexpressed, that directly reduce expression of specific DNA repair proteins (see MicroRNA section DNA repair and cancer)  In the case of breast cancer, microRNA-182 (miR-182) specifically targets BRCA1.[72]  Breast cancers can be classified based on receptor status or histology, with triple-negative breast cancer (15%–25% of breast cancers), HER2+ (15%–30% of breast cancers), ER+/PR+ (about 70% of breast cancers), and Invasive lobular carcinoma (about 5%–10% of invasive breast cancer).  All four types of breast cancer were found to have an average of about 100-fold increase in miR-182, compared to normal breast tissue.[73]  In breast cancer cell lines, there is an inverse correlation of BRCA1 protein levels with miR-182 expression.[72] Thus it appears that much of the reduction or absence of BRCA1 in high grade ductal breast cancers may be due to over-expressed miR-182.\n",
            "In addition to miR-182, a pair of almost identical microRNAs, miR-146a and miR-146b-5p, also repress BRCA1 expression.  These two microRNAs are over-expressed in triple-negative tumors and their over-expression results in BRCA1 inactivation.[74]  Thus, miR-146a and/or miR-146b-5p may also contribute to reduced expression of BRCA1 in these triple-negative breast cancers.\n",
            "In both serous tubal intraepithelial carcinoma (the precursor lesion to high grade serous ovarian carcinoma (HG-SOC)), and in HG-SOC itself, miR-182 is overexpressed in about 70% of cases.[75]  In cells with over-expressed miR-182, BRCA1 remained low, even after exposure to ionizing radiation (which normally raises BRCA1 expression).[75]  Thus much of the reduced or absent BRCA1 in HG-SOC may be due to over-expressed miR-182.\n",
            "Another microRNA known to reduce expression of BRCA1 in ovarian cancer cells is miR-9.[65]  Among 58 tumors from patients with stage IIIC or stage IV serous ovarian cancers (HG-SOG), an inverse correlation was found between expressions of miR-9 and BRCA1,[65] so that increased miR-9 may also contribute to reduced expression of BRCA1 in these ovarian cancers.\n",
            "DNA damage appears to be the primary underlying cause of cancer,[76] and deficiencies in DNA repair appears to underlie many forms of cancer.[77]  If DNA repair is deficient, DNA damage tends to accumulate. Such excess DNA damage may increase mutational errors during DNA replication due to error-prone translesion synthesis. Excess DNA damage may also increase epigenetic alterations due to errors during DNA repair.[78][79] Such mutations and epigenetic alterations may give rise to cancer.  The frequent microRNA-induced deficiency of BRCA1 in breast and ovarian cancers likely contribute to the progression of those cancers.\n",
            "All germ-line BRCA1 mutations identified to date have been inherited, suggesting the possibility of a large \"founder\" effect in which a certain mutation is common to a well-defined population group and can, in theory, be traced back to a common ancestor. Given the complexity of mutation screening for BRCA1, these common mutations may simplify the methods required for mutation screening in certain populations. Analysis of mutations that occur with high frequency also permits the study of their clinical expression.[80] Examples of manifestations of a founder effect are seen among Ashkenazi Jews. Three mutations in BRCA1 have been reported to account for the majority of Ashkenazi Jewish patients with inherited BRCA1-related breast and/or ovarian cancer: 185delAG, 188del11 and 5382insC in the BRCA1 gene.[81][82] In fact, it has been shown that if a Jewish woman does not carry a BRCA1 185delAG, BRCA1 5382insC founder mutation, it is highly unlikely that a different BRCA1 mutation will be found.[83] Additional examples of founder mutations in BRCA1 are given in Table 1 (mainly derived from[80]).\n",
            "As women age, reproductive performance declines, leading to menopause. This decline is tied to a reduction in the number of ovarian follicles. Although about 1 million oocytes are present at birth in the human ovary, only about 500 (about 0.05%) of these ovulate. The decline in ovarian reserve appears to occur at a constantly increasing rate with age,[115] and leads to nearly complete exhaustion of the reserve by about age 52. As ovarian reserve and fertility decline with age, there is also a parallel increase in pregnancy failure and meiotic errors, resulting in chromosomally abnormal conceptions.[116]\n",
            "Women with a germ-line BRCA1 mutation appear to have a diminished oocyte reserve and decreased fertility compared to normally aging women.[117] Furthermore, women with an inherited BRCA1 mutation undergo menopause prematurely.[118]  Since BRCA1 is a key DNA repair protein, these findings suggest that naturally occurring DNA damages in oocytes are repaired less efficiently in women with a BRCA1 defect, and that this repair inefficiency leads to early reproductive failure.[117]\n",
            "As noted above, the BRCA1 protein plays a key role in homologous recombinational repair.  This is the only known cellular process that can accurately repair DNA double-strand breaks. DNA double-strand breaks accumulate with age in humans and mice in primordial follicles.[119]  Primordial follicles contain oocytes that are at an intermediate (prophase I) stage of meiosis.  Meiosis is the general process in eukaryotic organisms by which germ cells are formed, and it is likely an adaptation for removing DNA damages, especially double-strand breaks, from germ line DNA.[120] (Also see article Meiosis).  Homologous recombinational repair employing BRCA1 is especially promoted during meiosis.  It was found that expression of four key genes necessary for homologous recombinational repair of DNA double-strand breaks (BRCA1, MRE11, RAD51 and ATM) decline with age in the oocytes of humans and mice,[119] leading to the hypothesis that DNA double-strand break repair is necessary for the maintenance of oocyte reserve and that a decline in efficiency of repair with age plays a role in ovarian aging.\n",
            "Non-small cell lung cancer (NSCLC) is the leading cause of cancer deaths worldwide.  At diagnosis, almost 70% of persons with NSCLC have locally advanced or metastatic disease.  Persons with NSCLC are often treated with therapeutic platinum compounds (e.g. cisplatin, carboplatin or oxaliplatin) that cause inter-strand cross-links in DNA.  Among individuals with NSCLC, low expression of BRCA1 in the primary tumor correlated with improved survival after platinum-containing chemotherapy.[121][122]  This correlation implies that low BRCA1 in cancer, and the consequent low level of DNA repair, causes vulnerability of cancer to treatment by the DNA cross-linking agents.  High BRCA1 may protect cancer cells by acting in a pathway that removes the damages in DNA introduced by the platinum drugs.  Thus the level of BRCA1 expression is a potentially important tool for tailoring chemotherapy in lung cancer management.[121][122]\n",
            "Level of BRCA1 expression is also relevant to ovarian cancer treatment.  Patients having sporadic ovarian cancer who were treated with platinum drugs had longer median survival times if their BRCA1 expression was low compared to patients with higher BRCA1 expression (46 compared to 33 months).[123]\n",
            "A patent application for the isolated BRCA1 gene and cancer promoting mutations discussed above, as well as methods to diagnose the likelihood of getting breast cancer, was filed by the University of Utah, National Institute of Environmental Health Sciences (NIEHS) and Myriad Genetics in 1994;[18] over the next year, Myriad, (in collaboration with investigators at Endo Recherche, Inc., HSC Research & Development Limited Partnership, and University of Pennsylvania), isolated and sequenced the BRCA2 gene and identified key mutations, and the first BRCA2 patent was filed in the U.S. by Myriad and other institutions in 1995.[19]  Myriad is the exclusive licensee of these patents and has enforced them in the US against clinical diagnostic labs.[21]  This business model led from Myriad being a startup in 1994 to being a publicly traded company with 1200 employees and about $500M in annual revenue in 2012;[20] it also led to controversy over high prices and the inability to get second opinions from other diagnostic labs, which in turn led to the landmark Association for Molecular Pathology v. Myriad Genetics lawsuit.[21][124]  The patents began to expire in 2014.\n",
            "According to an article published in the journal, Genetic Medicine, in 2010, \"The patent story outside the United States is more complicated.... For example, patents have been obtained but the patents are being ignored by provincial health systems in Canada. In Australia and the UK, Myriad's licensee permitted use by health systems but announced a change of plans in August 2008. Only a single mutation has been patented in Myriad's lone European-wide patent, although some patents remain under review of an opposition proceeding. In effect, the United States is the only jurisdiction where Myriad's strong patent position has conferred sole-provider status.\"[125][126]  Peter Meldrum, CEO of Myriad Genetics, has acknowledged that Myriad has \"other competitive advantages that may make such [patent] enforcement unnecessary\" in Europe.[127]\n",
            "As with any gene, finding variation in BRCA1 is not hard. The real value comes from understanding what the clinical consequences of any particular variant are. Myriad has a large, proprietary database of such genotype-phenotype correlations. In response, parallel open-source databases are being developed.\n",
            "Legal decisions surrounding the BRCA1 and BRCA2 patents will affect the field of genetic testing in general.[128]  A June 2013 article, in  Association for Molecular Pathology v. Myriad Genetics (No. 12-398), quoted the US Supreme Court's unanimous ruling that, \"A naturally occurring DNA segment is a product of nature and not patent eligible merely because it has been isolated,\" invalidating Myriad's patents on the BRCA1 and BRCA2 genes. However, the Court also held that manipulation of a gene to create something not found in nature could still be eligible for patent protection.[129]  The Federal Court of Australia came to the opposite conclusion, upholding the validity of an Australian Myriad Genetics patent over the BRCA1 gene in February 2013.[130]  The Federal Court also rejected an appeal in September 2014.[131] Yvonne D'Arcy won her case against US-based biotech company Myriad Genetics in the High Court of Australia. In their unanimous decision on October 7, 2015, the \"high court found that an isolated nucleic acid, coding for a BRCA1 protein, with specific variations from the norm that are indicative of susceptibility to breast cancer and ovarian cancer was not a 'patentable invention.'\"[132]\n",
            "BRCA1 has been shown to interact with the following proteins:\n",
            "1jm7: Solution structure of the BRCA1/BARD1 RING-domain heterodimer\n",
            "1jnx: Crystal structure of the BRCT repeat region from the breast cancer associated protein, BRCA1\n",
            "1n5o: Structural consequences of a cancer-causing BRCA1-BRCT missense mutation\n",
            "1oqa: Solution structure of the BRCT-c domain from human BRCA1\n",
            "1t15: Crystal Structure of the Brca1 BRCT Domains in Complex with the Phosphorylated Interacting Region from Bach1 Helicase\n",
            "1t29: Crystal structure of the BRCA1 BRCT repeats bound to a phosphorylated BACH1 peptide\n",
            "1t2u: Structural basis of phosphopeptide recognition by the BRCT domain of BRCA1: structure of BRCA1 missense variant V1809F\n",
            "1t2v: Structural basis of phospho-peptide recognition by the BRCT domain of BRCA1, structure with phosphopeptide\n",
            "1y98: Structure of the BRCT repeats of BRCA1 bound to a CtIP phosphopeptide.\n",
            "\n",
            "Extracted text from 'https://en.wikipedia.org/wiki/BRCA1' and saved to 'BRCA1.txt'.\n",
            "Downloaded 'BRCA1' and created DataFrame.\n",
            "text is  1N0W, 3EU767512190ENSG00000139618ENSMUSG00000041147P51587P97929NM_000059NM_001081001NM_009765NP_000050NP_001074470NP_033895BRCA2 and BRCA2 (/ˌbrækəˈtuː/[5]) are a human gene and its protein product, respectively. The official symbol (BRCA2, italic for the gene, nonitalic for the protein) and the official name (originally breast cancer 2; currently BRCA2, DNA repair associated) are maintained by the HUGO Gene Nomenclature Committee. One alternative symbol, FANCD1, recognizes its association with the FANC protein complex. Orthologs, styled Brca2 and Brca2, are common in other vertebrate species.[6][7] BRCA2 is a human tumor suppressor gene[8][9] (specifically, a caretaker gene), found in all humans; its protein, also called by the synonym breast cancer type 2 susceptibility protein, is responsible for repairing DNA.[10]\n",
            "BRCA2 and BRCA1 are normally expressed in the cells of breast and other tissue, where they help repair damaged DNA or destroy cells if DNA cannot be repaired. They are involved in the repair of chromosomal damage with an important role in the error-free repair of DNA double strand breaks.[11][12] If BRCA1 or BRCA2 itself is damaged by a BRCA mutation, damaged DNA is not repaired properly, and this increases the risk for breast cancer.[13][14] BRCA1 and BRCA2 have been described as \"breast cancer susceptibility genes\" and \"breast cancer susceptibility proteins\".  The predominant allele has a normal tumor suppressive function whereas high penetrance mutations in these genes cause a loss of tumor suppressive function, which correlates with an increased risk of breast cancer.[15]\n",
            "The BRCA2 gene is located on the long (q) arm of chromosome 13 at position 12.3 (13q12.3).[16] The human reference BRCA2 gene contains 27 exons, and the cDNA has  10,254 base pairs[17] coding for a protein of 3418 amino acids.[18][19]\n",
            "Although the structures of the BRCA1 and BRCA2 genes are very different, at least some functions are interrelated. The proteins made by both genes are essential for repairing damaged DNA (see Figure of recombinational repair steps). BRCA2 binds the single strand DNA and directly interacts with the recombinase RAD51 to stimulate[27] and maintain [28] strand invasion, a vital step of homologous recombination. The localization of RAD51 to the DNA double-strand break requires the formation of the BRCA1-PALB2-BRCA2 complex. PALB2 (Partner and localizer of BRCA2)[29] can function synergistically with a BRCA2 chimera (termed piccolo, or piBRCA2) to further promote strand invasion.[30] These breaks can be caused by natural and medical radiation or other environmental exposures, but also occur when chromosomes exchange genetic material during a special type of cell division that creates sperm and eggs (meiosis). Double strand breaks are also generated during repair of DNA cross links. By repairing DNA, these proteins play a role in maintaining the stability of the human genome and prevent dangerous gene rearrangements that can lead to hematologic and other cancers.\n",
            "BRCA2 has been shown to possess a crucial role in protection from the MRE11-dependent nucleolytic degradation of the reversed forks that are forming during DNA replication fork stalling (caused by obstacles such as mutations, intercalating agents etc.).[31]\n",
            "Like BRCA1, BRCA2 probably regulates the activity of other genes and plays a critical role in embryo development.\n",
            "Certain variations of the BRCA2 gene increase risks for breast cancer as part of a hereditary breast–ovarian cancer syndrome. Researchers have identified hundreds of mutations in the BRCA2 gene, many of which cause an increased risk of cancer. BRCA2 mutations are usually insertions or deletions of a small number of DNA base pairs in the gene. As a result of these mutations, the protein product of the BRCA2 gene is abnormal, and does not function properly. Researchers believe that the defective BRCA2 protein is unable to fix DNA damage that occurs throughout the genome.  As a result, there is an increase in mutations due to error-prone translesion synthesis past un-repaired DNA damage, and some of these mutations can cause cells to divide in an uncontrolled way and form a tumor.\n",
            "People who have two mutated copies of the BRCA2 gene have one type of Fanconi anemia. This condition is caused by extremely reduced levels of the BRCA2 protein in cells, which allows the accumulation of damaged DNA. Patients with Fanconi anemia are prone to several types of leukemia (a type of blood cell cancer); solid tumors, particularly of the head, neck, skin, and reproductive organs; and bone marrow suppression (reduced blood cell production that leads to anemia).  Women having inherited a defective BRCA1 or BRCA2 gene have risks for breast and ovarian cancer that are so high and seem so selective that many mutation carriers choose to have prophylactic surgery. There has been much conjecture to explain such apparently striking tissue specificity. Major determinants of where BRCA1- and BRCA2-associated hereditary cancers occur are related to tissue specificity of the cancer pathogen, the agent that causes chronic inflammation, or the carcinogen. The target tissue may have receptors for the pathogen, become selectively exposed to carcinogens and an infectious process. An innate genomic deficit impairs normal responses and exacerbates the susceptibility to disease in organ targets. This theory also fits data for several tumor suppressors beyond BRCA1 or BRCA2. A major advantage of this model is that it suggests there are some options in addition to prophylactic surgery.[33]\n",
            "In addition to breast cancer in men and women, mutations in BRCA2 also lead to an increased risk of ovarian, uterine tube, prostate and pancreatic cancer. In some studies, mutations in the central part of the gene have been associated with a higher risk of ovarian cancer and a lower risk of prostate cancer than mutations in other parts of the gene. Several other types of cancer have also been seen in certain families with BRCA2 mutations.\n",
            "In general, strongly inherited gene mutations (including mutations in BRCA2) account for only 5-10% of breast cancer cases; the specific risk of getting breast or other cancer for anyone carrying a BRCA2 mutation depends on many factors.[34]\n",
            "The gene was first cloned by scientists at Myriad Genetics, Endo Recherche, Inc., HSC Research & Development Limited Partnership, and the University of Pennsylvania.[41]\n",
            "Methods to diagnose the likelihood of a patient with mutations in BRCA1 and BRCA2 getting cancer were covered by patents owned or controlled by Myriad Genetics.[42][43] Myriad's business model of exclusively offering the diagnostic test led from Myriad's beginnings as a startup in 1994 to its being a publicly traded company with 1200 employees and about $500M in annual revenue in 2012;[44] it also led to controversy over high test prices and the unavailability of second opinions from other diagnostic labs, which in turn led to the landmark Association for Molecular Pathology v. Myriad Genetics lawsuit.[45]\n",
            "All germline BRCA2 mutations identified to date have been inherited, suggesting the possibility of a large \"founder\" effect in which a certain mutation is common to a well-defined population group and can theoretically be traced back to a common ancestor. Given the complexity of mutation screening for BRCA2, these common mutations may simplify the methods required for mutation screening in certain populations. Analysis of mutations that occur with high frequency also permits the study of their clinical expression.[46] A striking example of a founder mutation is found in Iceland, where a single BRCA2 (999del5) mutation accounts for virtually all breast/ovarian cancer families.[47][48] This frame-shift mutation leads to a highly truncated protein product. In a large study examining hundreds of cancer and control individuals, this 999del5 mutation was found in 0.6% of the general population. Of note, while 72% of patients who were found to be carriers had a moderate or strong family history of breast cancer, 28% had little or no family history of the disease. This strongly suggests the presence of modifying genes that affect the phenotypic expression of this mutation, or possibly the interaction of the BRCA2 mutation with environmental factors. Additional examples of founder mutations in BRCA2 are given in the table below.\n",
            "In the plant Arabidopsis thaliana, loss of the BRCA2 homolog AtBRCA2 causes severe defects in both male meiosis and in the development of the female gametocyte.[64]  AtBRCA2 protein is required for proper localization of the synaptonemal complex protein AtZYP1 and the recombinases AtRAD51 and AtDMC1.  Furthermore, AtBRCA2 is required for proper meiotic synapsis.  Thus AtBRCA2 is likely important for meiotic recombination.  It appears that AtBRCA2 acts during meiosis to control the single-strand invasion steps mediated by AtRAD51 and AtDMC1 occurring during meiotic homologous recombinational repair of DNA damages.[64]\n",
            "Homologs of BRCA2 are also essential for meiosis in the fungus Ustilago maydis,[65] the worm Caenorhabditis elegans,[66][67] and the fruitfly Drosophila melanogaster.[68]\n",
            "Mice that produce truncated versions of BRCA2 are viable but sterile.[69]  BRCA2 mutant rats have a phenotype of growth inhibition and sterility in both sexes.[70]  Aspermatogenesis in these mutant rats is due to a failure of homologous chromosome synapsis during meiosis.\n",
            "DMC1 (DNA meiotic recombinase 1) is a meiosis specific homolog of RAD51 that mediates strand exchange during homologous recombinational repair.  DMC1 promotes the formation of DNA strand invasion products (joint molecules) between homologous DNA molecules.  Human DMC1 interacts directly with each of a series of repeat sequences in the BRCA2 protein (called BRC repeats) that stimulate joint molecule formation by DMC1.[71]  BRC repeats conform to a motif consisting of a sequence of about 35 highly conserved amino acids that are present at least once in all BRCA2-like proteins.  The BRCA2 BRC repeats stimulate joint molecule formation by promoting the interaction of single-stranded DNA (ssDNA) with DMC1.[71]  The ssDNA complexed with DMC1 can pair with homologous ssDNA from another chromosome during the synopsis stage of meiosis to form a joint molecule, a central step in homologous recombination. Thus the BRC repeat sequences of BRCA2 appear to play a key role in recombinational repair of DNA damages during meiotic recombination.\n",
            "Overall, it appears that homologous recombination during meiosis functions to repair DNA damages,[citation needed] and that BRCA2 plays a key role in performing this function.\n",
            "BRCA2 is required in the mouse for neurogenesis and suppression of medulloblastoma.[72]  ‘’BRCA2’’ loss profoundly affects neurogenesis, particularly during embryonic and postnatal neural development.  These neurological defects arise from DNA damage.[72]\n",
            "Epigenetic alterations in expression of BRCA2 (causing over-expression or under-expression) are very frequent in sporadic cancers (see Table below) while mutations in BRCA2 are rarely found.[73][74][75]\n",
            "In non-small cell lung cancer, BRCA2 is epigenetically repressed by hypermethylation of the promoter.[76]  In this case, promoter hypermethylation is significantly associated with low mRNA expression and low protein expression but not with loss of heterozygosity of the gene.\n",
            "In sporadic ovarian cancer, an opposite effect is found.  BRCA2 promoter and 5'-UTR regions have relatively few or no methylated CpG dinucleotides in the tumor DNA compared with that of non-tumor DNA, and a significant correlation is found between hypomethylation and a >3-fold over-expression of BRCA2.[77]  This indicates that hypomethylation of the BRCA2 promoter and 5'-UTR regions leads to over-expression of BRCA2 mRNA.\n",
            "One report indicated some epigenetic control of BRCA2 expression by the microRNAs miR-146a and miR-148a.[78]\n",
            "In eukaryotes, BRCA2 protein has an important role in homologous recombinational repair. In mice and humans, BRCA2 primarily mediates orderly assembly of RAD51 on single-stranded (ss) DNA, the form that is active for homologous pairing and strand invasion.[79] BRCA2 also redirects RAD51 from double-stranded DNA and prevents dissociation from ssDNA.[79]  In addition, the four paralogs of RAD51, consisting of RAD51B (RAD51L1), RAD51C (RAD51L2), RAD51D (RAD51L3), XRCC2 form a complex called the BCDX2 complex (see Figure: Recombinational repair of DNA). This complex participates in RAD51 recruitment or stabilization at damage sites.[26]  The BCDX2 complex appears to act by facilitating the assembly or stability of the RAD51 nucleoprotein filament.  RAD51 catalyses strand transfer between a broken sequence and its undamaged homologue to allow re-synthesis of the damaged region (see homologous recombination models).\n",
            "Some studies of cancers report over-expressed BRCA2 whereas other studies report under-expression of BRCA2.  At least two reports found over-expression in some sporadic breast tumors and under-expression in other sporadic breast tumors.[80][81] (see Table).\n",
            "Many cancers have epigenetic deficiencies in various DNA repair genes (see Frequencies of epimutations in DNA repair genes in cancers).  These repair deficiencies likely cause increased unrepaired DNA damages. The over-expression of BRCA2 seen in many cancers may reflect compensatory BRCA2 over-expression and increased homologous recombinational repair to at least partially deal with such excess DNA damages.  Egawa et al.[82] suggest that increased expression of BRCA2 can be explained by the genomic instability frequently seen in cancers, which induces BRCA2 mRNA expression due to an increased need for BRCA2 for DNA repair.\n",
            "Under-expression of BRCA2 would itself lead to increased unrepaired DNA damages.  Replication errors past these damages (see translesion synthesis) would lead to increased mutations and cancer.\n",
            "BRCA2 has been shown to interact with\n",
            "BRCA2 contains a number of 39 amino acid repeats that are critical for binding to RAD51 (a key protein in DNA recombinational repair) and resistance to methyl methanesulphonate treatment.[101][108][109][117]\n",
            "The BRCA2 helical domain adopts a helical structure, consisting of a four-helix cluster core (alpha 1, alpha 8, alpha 9, alpha 10) and two successive beta-hairpins (beta 1 to beta 4). An approximately 50-amino acid segment that contains four short helices (alpha 2 to alpha 4), meanders around the surface of the core structure. In BRCA2, the alpha 9 and alpha 10 helices pack with the BRCA2 OB1 domain through van der Waals contacts involving hydrophobic and aromatic residues, and also through side-chain and backbone hydrogen bonds. This domain binds the 70-amino acid DSS1 (deleted in split-hand/split foot syndrome) protein, which was originally identified as one of three genes that map to a 1.5-Mb locus deleted in an inherited developmental malformation syndrome.[115]\n",
            "The BRCA OB1 domain assumes an OB fold, which consists of a highly curved five-stranded beta-sheet that closes on itself to form a beta-barrel. OB1 has a shallow groove formed by one face of the curved sheet and is demarcated by two loops, one between beta 1 and beta 2 and another between beta 4 and beta 5, which allows for weak single strand DNA binding. The domain also binds the 70-amino acid DSS1 (deleted in split-hand/split foot syndrome) protein.[115]\n",
            "The BRCA OB3 domain assumes an OB fold, which consists of a highly curved five-stranded beta-sheet that closes on itself to form a beta-barrel. OB3 has a pronounced groove formed by one face of the curved sheet and is demarcated by two loops, one between beta 1 and beta 2 and another between beta 4 and beta 5, which allows for strong ssDNA binding.[115]\n",
            "The Tower domain adopts a secondary structure consisting of a pair of long, antiparallel alpha-helices (the stem) that support a three-helix bundle (3HB) at their end. The 3HB contains a helix-turn-helix motif and is similar to the DNA binding domains of the bacterial site-specific recombinases, and of eukaryotic Myb and homeodomain transcription factors. The Tower domain has an important role in the tumour suppressor function of BRCA2, and is essential for appropriate binding of BRCA2 to DNA.[115] Studies shown that conformation of this tower domain is allosterically controlled by a small protein \"DSS1\", which interacts with helical, OB1 and OB2 domains of BRCA2.[118]\n",
            "A patent application for the isolated BRCA1 gene and cancer-cancer promoting mutations, as well as methods to diagnose the likelihood of getting breast cancer, was filed by the University of Utah, National Institute of Environmental Health Sciences (NIEHS) and Myriad Genetics in 1994;[42]  over the next year, Myriad, in collaboration with other investigators, isolated and sequenced the BRCA2 gene and identified relevant mutations, and the first BRCA2 patent was filed in the U.S. by Myriad and the other institutions in 1995.[41]  Myriad is the exclusive licensee of these patents and has enforced them in the US against clinical diagnostic labs.[45]  This business model led from Myriad being a startup in 1994 to being a publicly traded company with 1200 employees and about $500M in annual revenue in 2012;[44] it also led to controversy over high prices and the inability to get second opinions from other diagnostic labs, which in turn led to the landmark Association for Molecular Pathology v. Myriad Genetics lawsuit.[45][119]  The patents begin to expire in 2014.\n",
            "Peter Meldrum, CEO of Myriad Genetics, has acknowledged that Myriad has \"other competitive advantages that may make such [patent] enforcement unnecessary\" in Europe.[120]\n",
            "Legal decisions surrounding the BRCA1 and BRCA2 patents will affect the field of genetic testing in general.[121]  In June 2013, in  Association for Molecular Pathology v. Myriad Genetics (No. 12-398), the US Supreme Court unanimously ruled that, \"A naturally occurring DNA segment is a product of nature and not patent eligible merely because it has been isolated,\" invalidating Myriad's patents on the BRCA1 and BRCA2 genes. However, the Court also held that manipulation of a gene to create something not found in nature could still be eligible for patent protection.[122]  The Federal Court of Australia came to the opposite conclusion, upholding the validity of an Australian Myriad Genetics patent over the BRCA1 gene in February 2013,[123] but this decision is being appealed and the appeal will include consideration of the US Supreme Court ruling.[124]\n",
            "1n0w: Crystal structure of a RAD51-BRCA2 BRC repeat complex\n",
            "\n",
            "Extracted text from 'https://en.wikipedia.org/wiki/BRCA2' and saved to 'BRCA2.txt'.\n",
            "Downloaded 'BRCA2' and created DataFrame.\n",
            "Updated CSV file 'wikipedia_details.csv' with missing Wikipedia page details.\n"
          ]
        }
      ],
      "source": [
        "# Example usage with a list of wiki_page names to update and remove\n",
        "wiki_page_list = [\n",
        "    \"BRCA_mutation\",\n",
        "    \"BRCA1\",\n",
        "    \"BRCA2\"]\n",
        "    # \"Tumor_suppressor_genes\",\n",
        "    # \"Adenomatous_polyposis_coli\",\n",
        "    # \"ATOH1\",\n",
        "    # \"BCL10\",\n",
        "    # \"Cadherin-1\",\n",
        "    # \"Capicua_(protein)\",\n",
        "    # \"CDKN1B\"]\n",
        "#     \"CHEK2\",\n",
        "#     \"Cyclin-dependent_kinase_inhibitor_1C\",\n",
        "#     \"DHX15\",\n",
        "#     \"DLD/NP1\",\n",
        "#     \"Protein\"\n",
        "#     # Add more wiki_page names as needed\n",
        "# ]\n",
        "\n",
        "remove_wiki_page_list = []\n",
        "    # \"BRCA1\",\n",
        "    # \"BRCA2\",\n",
        "    # \"Tumor_suppressor_genes\",\n",
        "    # \"Adenomatous_polyposis_coli\",\n",
        "    # \"ATOH1\",\n",
        "    # \"BCL10\",\n",
        "    # \"Cadherin-1\",\n",
        "    # \"Capicua_(protein)\",\n",
        "    # \"CDKN1B\"]\n",
        "    # Add more page titles to remove as needed\n",
        "# ]\n",
        "\n",
        "update_csv_with_wikipedia_details(wiki_page_list, \"wikipedia_details.csv\", remove_wiki_page_list)\n"
      ]
    },
    {
      "cell_type": "code",
      "execution_count": 7,
      "id": "612ee7e1-1fac-46f9-bbd5-6b88a7502514",
      "metadata": {
        "id": "612ee7e1-1fac-46f9-bbd5-6b88a7502514",
        "colab": {
          "base_uri": "https://localhost:8080/"
        },
        "outputId": "1fe6eb0e-bbb2-44d3-f0f7-8364bb327bca"
      },
      "outputs": [
        {
          "output_type": "stream",
          "name": "stdout",
          "text": [
            "BRCA1.txt  BRCA2.txt  BRCA_mutation.txt  sample_data  wikipedia_details.csv\n"
          ]
        }
      ],
      "source": [
        "!ls\n"
      ]
    },
    {
      "cell_type": "code",
      "source": [
        "from google.colab import drive\n",
        "drive.mount('/content/drive')\n"
      ],
      "metadata": {
        "colab": {
          "base_uri": "https://localhost:8080/"
        },
        "id": "uZpapPqz4Pg8",
        "outputId": "486110e3-22c2-4227-f27c-9862aa6ab3e2"
      },
      "id": "uZpapPqz4Pg8",
      "execution_count": 9,
      "outputs": [
        {
          "output_type": "stream",
          "name": "stdout",
          "text": [
            "Mounted at /content/drive\n"
          ]
        }
      ]
    },
    {
      "cell_type": "code",
      "source": [
        "# !ls /content/drive/MyDrive"
      ],
      "metadata": {
        "id": "UkuI69gS5gXi"
      },
      "id": "UkuI69gS5gXi",
      "execution_count": 14,
      "outputs": []
    },
    {
      "cell_type": "code",
      "source": [
        "import shutil\n",
        "\n",
        "# Define the source file path\n",
        "source_file = 'wikipedia_details.csv'\n",
        "\n",
        "# Define the destination folder in Google Drive\n",
        "destination_folder = '/content/drive/MyDrive/bio-llm/'\n",
        "\n",
        "# Copy the file to Google Drive\n",
        "shutil.copy(source_file, destination_folder)\n"
      ],
      "metadata": {
        "colab": {
          "base_uri": "https://localhost:8080/",
          "height": 35
        },
        "id": "0u3ESr1a5CiF",
        "outputId": "75903509-8fdc-4b07-e8d4-b66d6b865662"
      },
      "id": "0u3ESr1a5CiF",
      "execution_count": 15,
      "outputs": [
        {
          "output_type": "execute_result",
          "data": {
            "text/plain": [
              "'/content/drive/MyDrive/bio-llm/wikipedia_details.csv'"
            ],
            "application/vnd.google.colaboratory.intrinsic+json": {
              "type": "string"
            }
          },
          "metadata": {},
          "execution_count": 15
        }
      ]
    },
    {
      "cell_type": "code",
      "source": [],
      "metadata": {
        "id": "sQeg4KVA5Z6c"
      },
      "id": "sQeg4KVA5Z6c",
      "execution_count": null,
      "outputs": []
    }
  ],
  "metadata": {
    "kernelspec": {
      "display_name": "Python 3 (ipykernel)",
      "language": "python",
      "name": "python3"
    },
    "language_info": {
      "codemirror_mode": {
        "name": "ipython",
        "version": 3
      },
      "file_extension": ".py",
      "mimetype": "text/x-python",
      "name": "python",
      "nbconvert_exporter": "python",
      "pygments_lexer": "ipython3",
      "version": "3.11.4"
    },
    "colab": {
      "provenance": [],
      "include_colab_link": true
    }
  },
  "nbformat": 4,
  "nbformat_minor": 5
}